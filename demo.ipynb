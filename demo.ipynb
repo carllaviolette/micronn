{
  "nbformat": 4,
  "nbformat_minor": 0,
  "metadata": {
    "colab": {
      "provenance": []
    },
    "kernelspec": {
      "name": "python3",
      "display_name": "Python 3"
    },
    "language_info": {
      "name": "python"
    }
  },
  "cells": [
    {
      "cell_type": "markdown",
      "source": [
        "## Use our micro neural network framework."
      ],
      "metadata": {
        "id": "7yhosILBYOCQ"
      }
    },
    {
      "cell_type": "code",
      "execution_count": 1,
      "metadata": {
        "id": "E5b6GdrWW97o"
      },
      "outputs": [],
      "source": [
        "from micronn import nn\n",
        "\n",
        "import numpy as np"
      ]
    },
    {
      "cell_type": "markdown",
      "source": [
        "### MNIST Dataset."
      ],
      "metadata": {
        "id": "huxRtvI97six"
      }
    },
    {
      "cell_type": "code",
      "source": [
        "# Import MNIST from keras datasets.\n",
        "\n",
        "from keras.datasets import mnist\n",
        "from tensorflow.keras.utils import to_categorical"
      ],
      "metadata": {
        "id": "6sbsZyG47tu4"
      },
      "execution_count": 2,
      "outputs": []
    },
    {
      "cell_type": "code",
      "source": [
        "# load MNIST train and test sets.\n",
        "(x_train, y_train), (x_test, y_test) = mnist.load_data()"
      ],
      "metadata": {
        "id": "OlfJm97V72nb"
      },
      "execution_count": 3,
      "outputs": []
    },
    {
      "cell_type": "code",
      "source": [
        "# Initial Data formatting/reshaping\n",
        "\n",
        "# training data : 60000 samples\n",
        "# reshape and normalize input data\n",
        "x_train = x_train.reshape(x_train.shape[0], 1, 28*28)\n",
        "x_train = x_train.astype('float32')\n",
        "x_train /= 255\n",
        "y_train = to_categorical(y_train)\n",
        "\n",
        "# same for test data : 10000 samples\n",
        "x_test = x_test.reshape(x_test.shape[0], 1, 28*28)\n",
        "x_test = x_test.astype('float32')\n",
        "x_test /= 255\n",
        "y_test = to_categorical(y_test)\n",
        "\n",
        "y_train = y_train.reshape(y_train.shape[0], 1, y_train.shape[1])\n",
        "y_test = y_test.reshape(y_test.shape[0], 1, y_test.shape[1])"
      ],
      "metadata": {
        "id": "s8yQ99q-AEGK"
      },
      "execution_count": 4,
      "outputs": []
    },
    {
      "cell_type": "markdown",
      "source": [
        "### Build a simple MLP Neural Network."
      ],
      "metadata": {
        "id": "RMX79f8TjDtA"
      }
    },
    {
      "cell_type": "code",
      "source": [
        "# Build Neural Network Model.\n",
        "\n",
        "network = nn.NeuralNetwork()\n",
        "network.add(nn.Tanh())\n",
        "network.add(nn.Linear(784, 64))\n",
        "network.add(nn.Relu())\n",
        "network.add(nn.Linear(64, 10))\n",
        "network.add(nn.Softmax())"
      ],
      "metadata": {
        "id": "MrIGfWuGEzcL"
      },
      "execution_count": 5,
      "outputs": []
    },
    {
      "cell_type": "code",
      "source": [
        "# Define Loss Function.\n",
        "\n",
        "network.loss_type(nn.cross_entropy, nn.cross_entropy_grad)"
      ],
      "metadata": {
        "id": "sNYnPzbNoBxM"
      },
      "execution_count": 6,
      "outputs": []
    },
    {
      "cell_type": "markdown",
      "source": [
        "### Initiate backpropogation."
      ],
      "metadata": {
        "id": "JUZZUaspjLfp"
      }
    },
    {
      "cell_type": "code",
      "source": [
        "# Train the model using backprop and stochastic gradient descent.\n",
        "network.train(x_train=x_train, y_train=y_train, epochs=5, learning_rate=0.01)"
      ],
      "metadata": {
        "colab": {
          "base_uri": "https://localhost:8080/"
        },
        "id": "-evmRd3aFCcn",
        "outputId": "ac8730e0-ad2a-49a5-acdb-8c84b0095c85"
      },
      "execution_count": 7,
      "outputs": [
        {
          "output_type": "stream",
          "name": "stdout",
          "text": [
            "epoch 1/5   loss=3.709960   accuracy=0.738917\n",
            "epoch 2/5   loss=0.695142   accuracy=0.907900\n",
            "epoch 4/5   loss=0.273755   accuracy=0.932517\n",
            "epoch 5/5   loss=0.231182   accuracy=0.940800\n"
          ]
        }
      ]
    },
    {
      "cell_type": "markdown",
      "source": [
        "### Results"
      ],
      "metadata": {
        "id": "ZsZlTCJijUHF"
      }
    },
    {
      "cell_type": "code",
      "source": [
        "# Define class predictions.\n",
        "y_pred = np.array(network.predict(x_test))\n",
        "y_pred_max = np.argmax(y_pred, axis=2)\n",
        "\n",
        "# Define true class.\n",
        "y_true = np.array(y_test)\n",
        "y_true_max = np.argmax(y_true, axis=2)"
      ],
      "metadata": {
        "id": "2NvguTsuF94g"
      },
      "execution_count": 8,
      "outputs": []
    },
    {
      "cell_type": "code",
      "source": [
        "# Calculate model accuracy.\n",
        "\n",
        "accuracy = np.sum(y_pred_max == y_true_max) / len(y_pred_max)\n",
        "accuracy"
      ],
      "metadata": {
        "colab": {
          "base_uri": "https://localhost:8080/"
        },
        "id": "XC07gI0q2Epf",
        "outputId": "c410d22d-35a4-4443-a1e8-9b04afeace20"
      },
      "execution_count": 9,
      "outputs": [
        {
          "output_type": "execute_result",
          "data": {
            "text/plain": [
              "0.9325"
            ]
          },
          "metadata": {},
          "execution_count": 9
        }
      ]
    }
  ]
}